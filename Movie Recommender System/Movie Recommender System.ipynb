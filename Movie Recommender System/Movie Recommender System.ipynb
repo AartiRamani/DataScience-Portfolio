{
 "cells": [
  {
   "cell_type": "markdown",
   "id": "022a55b5",
   "metadata": {},
   "source": [
    "### Import the required libaries."
   ]
  },
  {
   "cell_type": "code",
   "execution_count": 1,
   "id": "d3707568",
   "metadata": {},
   "outputs": [],
   "source": [
    "import numpy as np\n",
    "import pandas as pd\n",
    "import matplotlib.pyplot as plt \n",
    "\n",
    "\n",
    "from scipy.sparse import csr_matrix\n",
    "from sklearn.metrics import mean_squared_error\n",
    "from sklearn.model_selection import train_test_split\n",
    "import warnings\n",
    "from sklearn.neighbors import NearestNeighbors \n",
    "from tabulate import tabulate"
   ]
  },
  {
   "cell_type": "markdown",
   "id": "36ad3dd7",
   "metadata": {},
   "source": [
    "### Load the datasets into a dataframe"
   ]
  },
  {
   "cell_type": "code",
   "execution_count": 2,
   "id": "892d3756",
   "metadata": {},
   "outputs": [],
   "source": [
    "movies_df = pd.read_csv(\"movies.csv\")\n",
    "ratings_df = pd.read_csv(\"ratings.csv\")\n",
    "tags_df = pd.read_csv(\"tags.csv\")\n",
    "links_df = pd.read_csv(\"links.csv\")"
   ]
  },
  {
   "cell_type": "code",
   "execution_count": 3,
   "id": "553b341d",
   "metadata": {},
   "outputs": [
    {
     "data": {
      "text/plain": [
       "((9742, 3), (100836, 4), (3683, 4), (9742, 3))"
      ]
     },
     "execution_count": 3,
     "metadata": {},
     "output_type": "execute_result"
    }
   ],
   "source": [
    "movies_df.shape, ratings_df.shape, tags_df.shape,links_df.shape"
   ]
  },
  {
   "cell_type": "code",
   "execution_count": 4,
   "id": "56c1c950",
   "metadata": {},
   "outputs": [
    {
     "data": {
      "text/html": [
       "<div>\n",
       "<style scoped>\n",
       "    .dataframe tbody tr th:only-of-type {\n",
       "        vertical-align: middle;\n",
       "    }\n",
       "\n",
       "    .dataframe tbody tr th {\n",
       "        vertical-align: top;\n",
       "    }\n",
       "\n",
       "    .dataframe thead th {\n",
       "        text-align: right;\n",
       "    }\n",
       "</style>\n",
       "<table border=\"1\" class=\"dataframe\">\n",
       "  <thead>\n",
       "    <tr style=\"text-align: right;\">\n",
       "      <th></th>\n",
       "      <th>movieId</th>\n",
       "      <th>title</th>\n",
       "      <th>genres</th>\n",
       "    </tr>\n",
       "  </thead>\n",
       "  <tbody>\n",
       "    <tr>\n",
       "      <th>0</th>\n",
       "      <td>1</td>\n",
       "      <td>Toy Story (1995)</td>\n",
       "      <td>Adventure|Animation|Children|Comedy|Fantasy</td>\n",
       "    </tr>\n",
       "    <tr>\n",
       "      <th>1</th>\n",
       "      <td>2</td>\n",
       "      <td>Jumanji (1995)</td>\n",
       "      <td>Adventure|Children|Fantasy</td>\n",
       "    </tr>\n",
       "    <tr>\n",
       "      <th>2</th>\n",
       "      <td>3</td>\n",
       "      <td>Grumpier Old Men (1995)</td>\n",
       "      <td>Comedy|Romance</td>\n",
       "    </tr>\n",
       "    <tr>\n",
       "      <th>3</th>\n",
       "      <td>4</td>\n",
       "      <td>Waiting to Exhale (1995)</td>\n",
       "      <td>Comedy|Drama|Romance</td>\n",
       "    </tr>\n",
       "    <tr>\n",
       "      <th>4</th>\n",
       "      <td>5</td>\n",
       "      <td>Father of the Bride Part II (1995)</td>\n",
       "      <td>Comedy</td>\n",
       "    </tr>\n",
       "  </tbody>\n",
       "</table>\n",
       "</div>"
      ],
      "text/plain": [
       "   movieId                               title  \\\n",
       "0        1                    Toy Story (1995)   \n",
       "1        2                      Jumanji (1995)   \n",
       "2        3             Grumpier Old Men (1995)   \n",
       "3        4            Waiting to Exhale (1995)   \n",
       "4        5  Father of the Bride Part II (1995)   \n",
       "\n",
       "                                        genres  \n",
       "0  Adventure|Animation|Children|Comedy|Fantasy  \n",
       "1                   Adventure|Children|Fantasy  \n",
       "2                               Comedy|Romance  \n",
       "3                         Comedy|Drama|Romance  \n",
       "4                                       Comedy  "
      ]
     },
     "execution_count": 4,
     "metadata": {},
     "output_type": "execute_result"
    }
   ],
   "source": [
    "movies_df.head(5)"
   ]
  },
  {
   "cell_type": "code",
   "execution_count": 5,
   "id": "16fff409",
   "metadata": {},
   "outputs": [
    {
     "data": {
      "text/html": [
       "<div>\n",
       "<style scoped>\n",
       "    .dataframe tbody tr th:only-of-type {\n",
       "        vertical-align: middle;\n",
       "    }\n",
       "\n",
       "    .dataframe tbody tr th {\n",
       "        vertical-align: top;\n",
       "    }\n",
       "\n",
       "    .dataframe thead th {\n",
       "        text-align: right;\n",
       "    }\n",
       "</style>\n",
       "<table border=\"1\" class=\"dataframe\">\n",
       "  <thead>\n",
       "    <tr style=\"text-align: right;\">\n",
       "      <th></th>\n",
       "      <th>userId</th>\n",
       "      <th>movieId</th>\n",
       "      <th>rating</th>\n",
       "      <th>timestamp</th>\n",
       "    </tr>\n",
       "  </thead>\n",
       "  <tbody>\n",
       "    <tr>\n",
       "      <th>0</th>\n",
       "      <td>1</td>\n",
       "      <td>1</td>\n",
       "      <td>4.0</td>\n",
       "      <td>964982703</td>\n",
       "    </tr>\n",
       "    <tr>\n",
       "      <th>1</th>\n",
       "      <td>1</td>\n",
       "      <td>3</td>\n",
       "      <td>4.0</td>\n",
       "      <td>964981247</td>\n",
       "    </tr>\n",
       "    <tr>\n",
       "      <th>2</th>\n",
       "      <td>1</td>\n",
       "      <td>6</td>\n",
       "      <td>4.0</td>\n",
       "      <td>964982224</td>\n",
       "    </tr>\n",
       "    <tr>\n",
       "      <th>3</th>\n",
       "      <td>1</td>\n",
       "      <td>47</td>\n",
       "      <td>5.0</td>\n",
       "      <td>964983815</td>\n",
       "    </tr>\n",
       "    <tr>\n",
       "      <th>4</th>\n",
       "      <td>1</td>\n",
       "      <td>50</td>\n",
       "      <td>5.0</td>\n",
       "      <td>964982931</td>\n",
       "    </tr>\n",
       "  </tbody>\n",
       "</table>\n",
       "</div>"
      ],
      "text/plain": [
       "   userId  movieId  rating  timestamp\n",
       "0       1        1     4.0  964982703\n",
       "1       1        3     4.0  964981247\n",
       "2       1        6     4.0  964982224\n",
       "3       1       47     5.0  964983815\n",
       "4       1       50     5.0  964982931"
      ]
     },
     "execution_count": 5,
     "metadata": {},
     "output_type": "execute_result"
    }
   ],
   "source": [
    "ratings_df.head(5)"
   ]
  },
  {
   "cell_type": "code",
   "execution_count": 6,
   "id": "1735048c",
   "metadata": {},
   "outputs": [
    {
     "data": {
      "text/html": [
       "<div>\n",
       "<style scoped>\n",
       "    .dataframe tbody tr th:only-of-type {\n",
       "        vertical-align: middle;\n",
       "    }\n",
       "\n",
       "    .dataframe tbody tr th {\n",
       "        vertical-align: top;\n",
       "    }\n",
       "\n",
       "    .dataframe thead th {\n",
       "        text-align: right;\n",
       "    }\n",
       "</style>\n",
       "<table border=\"1\" class=\"dataframe\">\n",
       "  <thead>\n",
       "    <tr style=\"text-align: right;\">\n",
       "      <th></th>\n",
       "      <th>userId</th>\n",
       "      <th>movieId</th>\n",
       "      <th>tag</th>\n",
       "      <th>timestamp</th>\n",
       "    </tr>\n",
       "  </thead>\n",
       "  <tbody>\n",
       "    <tr>\n",
       "      <th>0</th>\n",
       "      <td>2</td>\n",
       "      <td>60756</td>\n",
       "      <td>funny</td>\n",
       "      <td>1445714994</td>\n",
       "    </tr>\n",
       "    <tr>\n",
       "      <th>1</th>\n",
       "      <td>2</td>\n",
       "      <td>60756</td>\n",
       "      <td>Highly quotable</td>\n",
       "      <td>1445714996</td>\n",
       "    </tr>\n",
       "    <tr>\n",
       "      <th>2</th>\n",
       "      <td>2</td>\n",
       "      <td>60756</td>\n",
       "      <td>will ferrell</td>\n",
       "      <td>1445714992</td>\n",
       "    </tr>\n",
       "    <tr>\n",
       "      <th>3</th>\n",
       "      <td>2</td>\n",
       "      <td>89774</td>\n",
       "      <td>Boxing story</td>\n",
       "      <td>1445715207</td>\n",
       "    </tr>\n",
       "    <tr>\n",
       "      <th>4</th>\n",
       "      <td>2</td>\n",
       "      <td>89774</td>\n",
       "      <td>MMA</td>\n",
       "      <td>1445715200</td>\n",
       "    </tr>\n",
       "  </tbody>\n",
       "</table>\n",
       "</div>"
      ],
      "text/plain": [
       "   userId  movieId              tag   timestamp\n",
       "0       2    60756            funny  1445714994\n",
       "1       2    60756  Highly quotable  1445714996\n",
       "2       2    60756     will ferrell  1445714992\n",
       "3       2    89774     Boxing story  1445715207\n",
       "4       2    89774              MMA  1445715200"
      ]
     },
     "execution_count": 6,
     "metadata": {},
     "output_type": "execute_result"
    }
   ],
   "source": [
    "tags_df.head(5)"
   ]
  },
  {
   "cell_type": "code",
   "execution_count": 7,
   "id": "d09f893c",
   "metadata": {},
   "outputs": [
    {
     "data": {
      "text/html": [
       "<div>\n",
       "<style scoped>\n",
       "    .dataframe tbody tr th:only-of-type {\n",
       "        vertical-align: middle;\n",
       "    }\n",
       "\n",
       "    .dataframe tbody tr th {\n",
       "        vertical-align: top;\n",
       "    }\n",
       "\n",
       "    .dataframe thead th {\n",
       "        text-align: right;\n",
       "    }\n",
       "</style>\n",
       "<table border=\"1\" class=\"dataframe\">\n",
       "  <thead>\n",
       "    <tr style=\"text-align: right;\">\n",
       "      <th></th>\n",
       "      <th>movieId</th>\n",
       "      <th>imdbId</th>\n",
       "      <th>tmdbId</th>\n",
       "    </tr>\n",
       "  </thead>\n",
       "  <tbody>\n",
       "    <tr>\n",
       "      <th>0</th>\n",
       "      <td>1</td>\n",
       "      <td>114709</td>\n",
       "      <td>862.0</td>\n",
       "    </tr>\n",
       "    <tr>\n",
       "      <th>1</th>\n",
       "      <td>2</td>\n",
       "      <td>113497</td>\n",
       "      <td>8844.0</td>\n",
       "    </tr>\n",
       "    <tr>\n",
       "      <th>2</th>\n",
       "      <td>3</td>\n",
       "      <td>113228</td>\n",
       "      <td>15602.0</td>\n",
       "    </tr>\n",
       "    <tr>\n",
       "      <th>3</th>\n",
       "      <td>4</td>\n",
       "      <td>114885</td>\n",
       "      <td>31357.0</td>\n",
       "    </tr>\n",
       "    <tr>\n",
       "      <th>4</th>\n",
       "      <td>5</td>\n",
       "      <td>113041</td>\n",
       "      <td>11862.0</td>\n",
       "    </tr>\n",
       "  </tbody>\n",
       "</table>\n",
       "</div>"
      ],
      "text/plain": [
       "   movieId  imdbId   tmdbId\n",
       "0        1  114709    862.0\n",
       "1        2  113497   8844.0\n",
       "2        3  113228  15602.0\n",
       "3        4  114885  31357.0\n",
       "4        5  113041  11862.0"
      ]
     },
     "execution_count": 7,
     "metadata": {},
     "output_type": "execute_result"
    }
   ],
   "source": [
    "links_df.head(5)"
   ]
  },
  {
   "cell_type": "markdown",
   "id": "0acacbb3",
   "metadata": {},
   "source": [
    "### Merge the datasets"
   ]
  },
  {
   "cell_type": "code",
   "execution_count": 8,
   "id": "c15d966b",
   "metadata": {},
   "outputs": [
    {
     "name": "stdout",
     "output_type": "stream",
     "text": [
      "(100836, 6)\n"
     ]
    },
    {
     "data": {
      "text/html": [
       "<div>\n",
       "<style scoped>\n",
       "    .dataframe tbody tr th:only-of-type {\n",
       "        vertical-align: middle;\n",
       "    }\n",
       "\n",
       "    .dataframe tbody tr th {\n",
       "        vertical-align: top;\n",
       "    }\n",
       "\n",
       "    .dataframe thead th {\n",
       "        text-align: right;\n",
       "    }\n",
       "</style>\n",
       "<table border=\"1\" class=\"dataframe\">\n",
       "  <thead>\n",
       "    <tr style=\"text-align: right;\">\n",
       "      <th></th>\n",
       "      <th>userId</th>\n",
       "      <th>movieId</th>\n",
       "      <th>rating</th>\n",
       "      <th>timestamp</th>\n",
       "      <th>title</th>\n",
       "      <th>genres</th>\n",
       "    </tr>\n",
       "  </thead>\n",
       "  <tbody>\n",
       "    <tr>\n",
       "      <th>0</th>\n",
       "      <td>1</td>\n",
       "      <td>1</td>\n",
       "      <td>4.0</td>\n",
       "      <td>964982703</td>\n",
       "      <td>Toy Story (1995)</td>\n",
       "      <td>Adventure|Animation|Children|Comedy|Fantasy</td>\n",
       "    </tr>\n",
       "    <tr>\n",
       "      <th>1</th>\n",
       "      <td>1</td>\n",
       "      <td>3</td>\n",
       "      <td>4.0</td>\n",
       "      <td>964981247</td>\n",
       "      <td>Grumpier Old Men (1995)</td>\n",
       "      <td>Comedy|Romance</td>\n",
       "    </tr>\n",
       "    <tr>\n",
       "      <th>2</th>\n",
       "      <td>1</td>\n",
       "      <td>6</td>\n",
       "      <td>4.0</td>\n",
       "      <td>964982224</td>\n",
       "      <td>Heat (1995)</td>\n",
       "      <td>Action|Crime|Thriller</td>\n",
       "    </tr>\n",
       "    <tr>\n",
       "      <th>3</th>\n",
       "      <td>1</td>\n",
       "      <td>47</td>\n",
       "      <td>5.0</td>\n",
       "      <td>964983815</td>\n",
       "      <td>Seven (a.k.a. Se7en) (1995)</td>\n",
       "      <td>Mystery|Thriller</td>\n",
       "    </tr>\n",
       "    <tr>\n",
       "      <th>4</th>\n",
       "      <td>1</td>\n",
       "      <td>50</td>\n",
       "      <td>5.0</td>\n",
       "      <td>964982931</td>\n",
       "      <td>Usual Suspects, The (1995)</td>\n",
       "      <td>Crime|Mystery|Thriller</td>\n",
       "    </tr>\n",
       "  </tbody>\n",
       "</table>\n",
       "</div>"
      ],
      "text/plain": [
       "   userId  movieId  rating  timestamp                        title  \\\n",
       "0       1        1     4.0  964982703             Toy Story (1995)   \n",
       "1       1        3     4.0  964981247      Grumpier Old Men (1995)   \n",
       "2       1        6     4.0  964982224                  Heat (1995)   \n",
       "3       1       47     5.0  964983815  Seven (a.k.a. Se7en) (1995)   \n",
       "4       1       50     5.0  964982931   Usual Suspects, The (1995)   \n",
       "\n",
       "                                        genres  \n",
       "0  Adventure|Animation|Children|Comedy|Fantasy  \n",
       "1                               Comedy|Romance  \n",
       "2                        Action|Crime|Thriller  \n",
       "3                             Mystery|Thriller  \n",
       "4                       Crime|Mystery|Thriller  "
      ]
     },
     "execution_count": 8,
     "metadata": {},
     "output_type": "execute_result"
    }
   ],
   "source": [
    "movies_ratings_df = ratings_df.merge(movies_df,on='movieId', how='left')\n",
    "print(movies_ratings_df.shape)\n",
    "movies_ratings_df.head(5)"
   ]
  },
  {
   "cell_type": "code",
   "execution_count": 10,
   "id": "99ba8a53",
   "metadata": {},
   "outputs": [
    {
     "name": "stdout",
     "output_type": "stream",
     "text": [
      "num_users :  610  num_movies :  9724  total_possible_ratings :  5931640\n",
      "num_actual_ratings :  100836  num_missing_ratings :  5830804\n",
      "Sparsity of the MovieLens dataset: 98.30%\n"
     ]
    }
   ],
   "source": [
    "# Calculate the total number of possible ratings\n",
    "num_users = movies_ratings_df['userId'].nunique()\n",
    "num_movies = movies_ratings_df['movieId'].nunique()\n",
    "total_possible_ratings = num_users*num_movies\n",
    "print('num_users : ',num_users, ' num_movies : ',num_movies,' total_possible_ratings : ',total_possible_ratings)\n",
    " \n",
    "# Calculate the number of missing ratings\n",
    "num_actual_ratings = movies_ratings_df.shape[0]\n",
    "num_missing_ratings = total_possible_ratings - num_actual_ratings\n",
    "print('num_actual_ratings : ',num_actual_ratings, ' num_missing_ratings : ',num_missing_ratings)\n",
    "      \n",
    "# Calculate the sparsity\n",
    "sparsity = (num_missing_ratings / total_possible_ratings) * 100\n",
    "\n",
    "print(f\"Sparsity of the MovieLens dataset: {sparsity:.2f}%\")"
   ]
  },
  {
   "cell_type": "markdown",
   "id": "5aae2aca",
   "metadata": {},
   "source": [
    "Given the high sparsity, it's important to use a sparse matrix representation (e.g., csr_matrix) to save memory. This will ensure we're not storing unnecessary zero values and can perform operations efficiently."
   ]
  },
  {
   "cell_type": "code",
   "execution_count": 11,
   "id": "c8027b05",
   "metadata": {},
   "outputs": [],
   "source": [
    "# Map the indices to users and movie ids.\n",
    "user_map = dict(zip(np.unique(movies_ratings_df['userId']), list(range(len(movies_ratings_df['userId'].unique())))))\n",
    "movie_map = dict(zip(np.unique(movies_ratings_df['movieId']), list(range(len(movies_ratings_df['movieId'].unique())))))"
   ]
  },
  {
   "cell_type": "code",
   "execution_count": 12,
   "id": "def66cd5",
   "metadata": {},
   "outputs": [],
   "source": [
    "# Create indices for the csr matrix  \n",
    "user_index = [user_map[i] for i in movies_ratings_df['userId']]\n",
    "movie_index = [movie_map[i] for i in movies_ratings_df['movieId']]"
   ]
  },
  {
   "cell_type": "code",
   "execution_count": 13,
   "id": "2fb356c1",
   "metadata": {},
   "outputs": [],
   "source": [
    "# Create the csr_matrix \n",
    "matrix = csr_matrix((movies_ratings_df[\"rating\"], (movie_index, user_index)), shape=(len(movies_ratings_df['movieId'].unique()), len(movies_ratings_df['userId'].unique())))"
   ]
  },
  {
   "cell_type": "code",
   "execution_count": 14,
   "id": "35979638",
   "metadata": {},
   "outputs": [],
   "source": [
    "# Map the movies to the movie ids.\n",
    "movie_titles_mapped = dict(zip(movies_ratings_df['movieId'], movies_ratings_df['title']))"
   ]
  },
  {
   "cell_type": "markdown",
   "id": "f9a3c05c",
   "metadata": {},
   "source": [
    "#### Function to identify the best metric for the model"
   ]
  },
  {
   "cell_type": "code",
   "execution_count": 15,
   "id": "6617e2e7",
   "metadata": {},
   "outputs": [],
   "source": [
    "def choosing_best_metric(movie_name, total_matches): \n",
    "    warnings.filterwarnings(\"ignore\")\n",
    "    metrics_to_try = ['cosine', 'euclidean', 'manhattan', 'correlation']\n",
    " \n",
    "    # Split the data into training and test sets\n",
    "    train_data, test_data = train_test_split(movies_ratings_df[['userId','movieId','rating']], test_size=0.2, random_state=42)\n",
    "\n",
    "    # List of metrics to try\n",
    "    metrics_to_try = ['cosine', 'euclidean', 'manhattan', 'correlation']\n",
    "\n",
    "    # Iterate over each metric and evaluate the model\n",
    "    for metric in metrics_to_try:\n",
    "        # Create Nearest Neighbors model\n",
    "        model = NearestNeighbors(algorithm='auto', metric=metric)\n",
    "\n",
    "        # Fit the model on the training data\n",
    "        model.fit(train_data[['userId', 'movieId']])\n",
    "\n",
    "        # For each user in the test set, find nearest neighbors and make predictions\n",
    "        predicted_ratings = []\n",
    "        for user_id, movie_id, _ in test_data.itertuples(index=False):\n",
    "            distances, indices = model.kneighbors([[user_id, movie_id]], n_neighbors=5)\n",
    "            neighbor_ratings = train_data.iloc[indices[0]]['rating']\n",
    "            predicted_rating = neighbor_ratings.mean() if len(neighbor_ratings) > 0 else 0\n",
    "            predicted_ratings.append(predicted_rating)\n",
    "\n",
    "        # Calculate and print RMSE for the current metric\n",
    "        rmse = mean_squared_error(test_data['rating'], predicted_ratings, squared=False)\n",
    "        print(f\"Metric: {metric}, RMSE: {rmse:.4f}\") "
   ]
  },
  {
   "cell_type": "code",
   "execution_count": 21,
   "id": "f5506895",
   "metadata": {},
   "outputs": [
    {
     "name": "stdout",
     "output_type": "stream",
     "text": [
      "Metric: cosine, RMSE: 1.1374\n",
      "Metric: euclidean, RMSE: 1.0701\n",
      "Metric: manhattan, RMSE: 1.0592\n",
      "Metric: correlation, RMSE: 1.1292\n"
     ]
    }
   ],
   "source": [
    "name = \"Underground\"\n",
    "totalMatches = 6\n",
    "choosing_best_metric(name, totalMatches) "
   ]
  },
  {
   "cell_type": "markdown",
   "id": "52e2f8c7",
   "metadata": {},
   "source": [
    "Based on the RMSE values, manhattan has the lowest RMSE of 1.0592. Therefore, manhattan appears to be the best metric to use for your Nearest Neighbors model on the given dataset."
   ]
  },
  {
   "cell_type": "markdown",
   "id": "38ece6af",
   "metadata": {},
   "source": [
    "### Function to print the recommendations in a user friendly format"
   ]
  },
  {
   "cell_type": "code",
   "execution_count": 16,
   "id": "a1f25a79",
   "metadata": {},
   "outputs": [],
   "source": [
    "def print_recommendations(movie_name, sorted_neighbours,total_matches):\n",
    "    # Print the movie titles and their related accuracy. \n",
    "    count = 1\n",
    "    movie_link = \"https://www.themoviedb.org/movie/\" \n",
    "    table_df = pd.DataFrame(sorted_neighbours, columns=[\"Name\",\"Genre\"])\n",
    "    table_df = table_df.drop(\"Genre\", axis=1)\n",
    "    table_df[\"genre\"]=\"\"\n",
    "    table_df[\"url\"]=\"\"   \n",
    "    \n",
    "    for index, row in table_df.iterrows(): \n",
    "        if len(table_df) == total_matches:\n",
    "            break\n",
    "        else:     \n",
    "            next_movie_id = next((k for k, v in movie_titles_mapped.items() if row.Name.lower() in v.lower()), None)  \n",
    "            genre = movies_df.loc[movies_df['movieId'] == next_movie_id, 'genres'].item() \n",
    "            table_df[\"genre\"][index] = genre            \n",
    "            tmdb_id = links_df.loc[links_df['movieId'] == next_movie_id, 'tmdbId'].item()\n",
    "            neighbour_movie_link = movie_link + str(int(tmdb_id))\n",
    "            table_df[\"url\"][index] = neighbour_movie_link   \n",
    "            count += 1\n",
    "    #Wrap text that's breaking the table before printing\n",
    "    table_df['Name']  = table_df['Name'].str.wrap(50)\n",
    "    table_df['genre']  = table_df['genre'].str.wrap(30)\n",
    "    print (tabulate(table_df, headers=[\"Movie Titles\",\"Genre\", \"URL\"],tablefmt='fancy_grid',showindex=False))"
   ]
  },
  {
   "cell_type": "markdown",
   "id": "31b1a005",
   "metadata": {},
   "source": [
    "### Function to Recommend Movies using the best metric"
   ]
  },
  {
   "cell_type": "code",
   "execution_count": 17,
   "id": "9672aac2",
   "metadata": {},
   "outputs": [],
   "source": [
    "def recommend_movies(movie_name, total_matches):\n",
    "    \n",
    "    # Increment total matches since we'll be removing the same movie\n",
    "    total_matches += 1\n",
    "    \n",
    "    # Create a variable to hold our neighbors.\n",
    "    neighbour_ids_with_distance = {}\n",
    "    \n",
    "    # Look up the movie the user entered using \"contains\" and get the matching movieIds'\n",
    "    user_movie_id = next((k for k, v in movie_titles_mapped.items() if movie_name.lower() in v.lower()), None) \n",
    "    # Prepare a vector for the KNN model.\n",
    "    movie_index_mapped = movie_map[user_movie_id]\n",
    "    movie_vector = matrix[movie_index_mapped]\n",
    "    \n",
    "    # Set the KNN model and fit it. \n",
    "    knn = NearestNeighbors(algorithm = 'auto', metric='manhattan') \n",
    "    #Using \"auto\" so the algorithm will automatically choose the most appropriate algorithm \n",
    "    #based on the input data and other parameters\n",
    "    knn.fit(matrix)\n",
    "    \n",
    "    # Determine distances for KNN values.  \n",
    "    distances, indices = knn.kneighbors(movie_vector, n_neighbors=total_matches) \n",
    "    \n",
    "    # Loop through the data and flatten the distances.\n",
    "    for i in range(0,len(distances.flatten())):\n",
    "        n = indices.flatten()[i] \n",
    "        neighbour_id = list(filter(lambda x: movie_map[x] == n, movie_map))[0] \n",
    "        neighbour_ids_with_distance[movie_titles_mapped[neighbour_id]] = distances.flatten()[i]\n",
    "        \n",
    "    # Remove the user entered movie title from the list.    \n",
    "    neighbour_ids_with_distance.pop(movie_titles_mapped[user_movie_id], None)\n",
    "    \n",
    "    # Sort the data by accuracy\n",
    "    sorted_neighbours = sorted(neighbour_ids_with_distance.items(), key=lambda x: x[1], reverse=False)\n",
    "    \n",
    "    actual_matches = total_matches - 1\n",
    "    print(f\"Found {actual_matches} movies related to : {movie_titles_mapped[user_movie_id]}\\n\") \n",
    "    print_recommendations(movie_name, sorted_neighbours, total_matches) #Call function to print recommendations"
   ]
  },
  {
   "cell_type": "markdown",
   "id": "657fb31f",
   "metadata": {},
   "source": [
    "### Testing the functions"
   ]
  },
  {
   "cell_type": "code",
   "execution_count": 18,
   "id": "ee47fa88",
   "metadata": {},
   "outputs": [
    {
     "name": "stdout",
     "output_type": "stream",
     "text": [
      "Found 10 movies related to : Underground (1995)\n",
      "\n",
      "╒════════════════════════════════════════════════════╤════════════════════════════╤════════════════════════════════════════╕\n",
      "│ Movie Titles                                       │ Genre                      │ URL                                    │\n",
      "╞════════════════════════════════════════════════════╪════════════════════════════╪════════════════════════════════════════╡\n",
      "│ Time of the Gypsies (Dom za vesanje) (1989)        │ Comedy|Crime|Drama|Fantasy │ https://www.themoviedb.org/movie/20123 │\n",
      "├────────────────────────────────────────────────────┼────────────────────────────┼────────────────────────────────────────┤\n",
      "│ How to Steal a Million (1966)                      │ Comedy|Crime|Romance       │ https://www.themoviedb.org/movie/3001  │\n",
      "├────────────────────────────────────────────────────┼────────────────────────────┼────────────────────────────────────────┤\n",
      "│ His Secret Life (a.k.a. Ignorant Fairies, The)     │ Drama|Romance              │ https://www.themoviedb.org/movie/23550 │\n",
      "│ (Fate ignoranti, Le) (2001)                        │                            │                                        │\n",
      "├────────────────────────────────────────────────────┼────────────────────────────┼────────────────────────────────────────┤\n",
      "│ Not One Less (Yi ge dou bu neng shao) (1999)       │ Drama                      │ https://www.themoviedb.org/movie/36210 │\n",
      "├────────────────────────────────────────────────────┼────────────────────────────┼────────────────────────────────────────┤\n",
      "│ I'm Starting From Three (Ricomincio da Tre) (1981) │ Comedy                     │ https://www.themoviedb.org/movie/13386 │\n",
      "├────────────────────────────────────────────────────┼────────────────────────────┼────────────────────────────────────────┤\n",
      "│ Atalante, L' (1934)                                │ Comedy|Drama|Romance       │ https://www.themoviedb.org/movie/43904 │\n",
      "├────────────────────────────────────────────────────┼────────────────────────────┼────────────────────────────────────────┤\n",
      "│ Hit the Bank (Vabank) (1981)                       │ Comedy|Crime               │ https://www.themoviedb.org/movie/22257 │\n",
      "├────────────────────────────────────────────────────┼────────────────────────────┼────────────────────────────────────────┤\n",
      "│ Nirvana (1997)                                     │ Action|Sci-Fi              │ https://www.themoviedb.org/movie/8765  │\n",
      "├────────────────────────────────────────────────────┼────────────────────────────┼────────────────────────────────────────┤\n",
      "│ How to Marry a Millionaire (1953)                  │ Comedy|Drama|Romance       │ https://www.themoviedb.org/movie/10297 │\n",
      "├────────────────────────────────────────────────────┼────────────────────────────┼────────────────────────────────────────┤\n",
      "│ Time Masters (Maîtres du temps, Les) (1982)        │ Animation|Sci-Fi           │ https://www.themoviedb.org/movie/22501 │\n",
      "╘════════════════════════════════════════════════════╧════════════════════════════╧════════════════════════════════════════╛\n"
     ]
    }
   ],
   "source": [
    "name = \"Underground\"\n",
    "totalMatches = 10\n",
    "recommend_movies(name, totalMatches) "
   ]
  },
  {
   "cell_type": "code",
   "execution_count": 19,
   "id": "c42d34ea",
   "metadata": {
    "scrolled": true
   },
   "outputs": [
    {
     "name": "stdout",
     "output_type": "stream",
     "text": [
      "Found 6 movies related to : Iron Man (2008)\n",
      "\n",
      "╒═══════════════════════════╤════════════════════════════════╤════════════════════════════════════════╕\n",
      "│ Movie Titles              │ Genre                          │ URL                                    │\n",
      "╞═══════════════════════════╪════════════════════════════════╪════════════════════════════════════════╡\n",
      "│ Iron Man 2 (2010)         │ Action|Adventure|Sci-          │ https://www.themoviedb.org/movie/10138 │\n",
      "│                           │ Fi|Thriller|IMAX               │                                        │\n",
      "├───────────────────────────┼────────────────────────────────┼────────────────────────────────────────┤\n",
      "│ Avengers, The (2012)      │ Action|Adventure|Sci-Fi|IMAX   │ https://www.themoviedb.org/movie/24428 │\n",
      "├───────────────────────────┼────────────────────────────────┼────────────────────────────────────────┤\n",
      "│ Thor (2011)               │ Action|Adventure|Drama|Fantasy │ https://www.themoviedb.org/movie/10195 │\n",
      "│                           │ |IMAX                          │                                        │\n",
      "├───────────────────────────┼────────────────────────────────┼────────────────────────────────────────┤\n",
      "│ X-Men: First Class (2011) │ Action|Adventure|Sci-          │ https://www.themoviedb.org/movie/49538 │\n",
      "│                           │ Fi|Thriller|War                │                                        │\n",
      "├───────────────────────────┼────────────────────────────────┼────────────────────────────────────────┤\n",
      "│ Iron Man 3 (2013)         │ Action|Sci-Fi|Thriller|IMAX    │ https://www.themoviedb.org/movie/68721 │\n",
      "├───────────────────────────┼────────────────────────────────┼────────────────────────────────────────┤\n",
      "│ Star Trek (2009)          │ Action|Adventure|Sci-Fi|IMAX   │ https://www.themoviedb.org/movie/13475 │\n",
      "╘═══════════════════════════╧════════════════════════════════╧════════════════════════════════════════╛\n"
     ]
    }
   ],
   "source": [
    "name = \"Iron Man\"\n",
    "totalMatches = 6\n",
    "\n",
    "recommend_movies(name, totalMatches)"
   ]
  },
  {
   "cell_type": "markdown",
   "id": "b30cad71",
   "metadata": {},
   "source": [
    "### Program to accept user input for movie title and number of recommendations. "
   ]
  },
  {
   "cell_type": "code",
   "execution_count": 22,
   "id": "0d9b1811",
   "metadata": {
    "scrolled": false
   },
   "outputs": [
    {
     "name": "stdout",
     "output_type": "stream",
     "text": [
      "\u001b[1m         WELCOME TO THE MOVIE RECOMMENDER APP      \u001b[0m\n",
      "Enter the movie title you wish to see OR Enter '!' to stop : speed\n",
      "\n",
      "Enter number of recommendations needed : 5\n",
      "Found 5 movies related to : Speed (1994)\n",
      "\n",
      "╒═══════════════════════════════════╤════════════════════════════════╤════════════════════════════════════════╕\n",
      "│ Movie Titles                      │ Genre                          │ URL                                    │\n",
      "╞═══════════════════════════════════╪════════════════════════════════╪════════════════════════════════════════╡\n",
      "│ Die Hard: With a Vengeance (1995) │ Action|Crime|Thriller          │ https://www.themoviedb.org/movie/1572  │\n",
      "├───────────────────────────────────┼────────────────────────────────┼────────────────────────────────────────┤\n",
      "│ Mrs. Doubtfire (1993)             │ Comedy|Drama                   │ https://www.themoviedb.org/movie/788   │\n",
      "├───────────────────────────────────┼────────────────────────────────┼────────────────────────────────────────┤\n",
      "│ True Lies (1994)                  │ Action|Adventure|Comedy|Romanc │ https://www.themoviedb.org/movie/36955 │\n",
      "│                                   │ e|Thriller                     │                                        │\n",
      "├───────────────────────────────────┼────────────────────────────────┼────────────────────────────────────────┤\n",
      "│ Sleepless in Seattle (1993)       │ Comedy|Drama|Romance           │ https://www.themoviedb.org/movie/858   │\n",
      "├───────────────────────────────────┼────────────────────────────────┼────────────────────────────────────────┤\n",
      "│ Pretty Woman (1990)               │ Comedy|Romance                 │ https://www.themoviedb.org/movie/114   │\n",
      "╘═══════════════════════════════════╧════════════════════════════════╧════════════════════════════════════════╛\n",
      "\n",
      "Enter a movie title or '!' to stop : vertical\n",
      "\n",
      "Enter number of recommendations needed : 6\n",
      "Found 6 movies related to : Vertical Limit (2000)\n",
      "\n",
      "╒══════════════════════════════════════════════╤════════════════════════════════╤════════════════════════════════════════╕\n",
      "│ Movie Titles                                 │ Genre                          │ URL                                    │\n",
      "╞══════════════════════════════════════════════╪════════════════════════════════╪════════════════════════════════════════╡\n",
      "│ Jimmy Neutron: Boy Genius (2001)             │ Adventure|Animation|Children|C │ https://www.themoviedb.org/movie/12589 │\n",
      "│                                              │ omedy                          │                                        │\n",
      "├──────────────────────────────────────────────┼────────────────────────────────┼────────────────────────────────────────┤\n",
      "│ Final Destination, The (Final Destination 4) │ Horror|Thriller                │ https://www.themoviedb.org/movie/19912 │\n",
      "│ (Final Destination in 3-D, The) (2009)       │                                │                                        │\n",
      "├──────────────────────────────────────────────┼────────────────────────────────┼────────────────────────────────────────┤\n",
      "│ Return of Jafar, The (1994)                  │ Adventure|Animation|Children|F │ https://www.themoviedb.org/movie/15969 │\n",
      "│                                              │ antasy|Musical|Romance         │                                        │\n",
      "├──────────────────────────────────────────────┼────────────────────────────────┼────────────────────────────────────────┤\n",
      "│ [REC]³ 3 Génesis (2012)                      │ Horror|Thriller                │ https://www.themoviedb.org/movie/80280 │\n",
      "├──────────────────────────────────────────────┼────────────────────────────────┼────────────────────────────────────────┤\n",
      "│ Skeleton Key, The (2005)                     │ Drama|Horror|Mystery|Thriller  │ https://www.themoviedb.org/movie/9913  │\n",
      "├──────────────────────────────────────────────┼────────────────────────────────┼────────────────────────────────────────┤\n",
      "│ [REC]² (2009)                                │ Horror|Thriller                │ https://www.themoviedb.org/movie/10664 │\n",
      "╘══════════════════════════════════════════════╧════════════════════════════════╧════════════════════════════════════════╛\n",
      "\n",
      "Enter a movie title or '!' to stop : !\n",
      "Bye....Hope you enjoy the movies!\n"
     ]
    }
   ],
   "source": [
    "def main():\n",
    "    counter = 0 \n",
    "    try:\n",
    "        print('\\033[1m' + '         WELCOME TO THE MOVIE RECOMMENDER APP      ' + '\\033[0m')\n",
    "        # Accept user input for zip code or city\n",
    "        user_input = input(\"Enter the movie title you wish to see OR Enter '!' to stop : \") \n",
    "        while user_input != '!':\n",
    "            if user_input != '!': \n",
    "                if counter > 0:\n",
    "                    user_input = input(\"\\nEnter a movie title or '!' to stop : \") \n",
    "                if user_input!=\"\" and user_input!= \"!\" :\n",
    "                    number_input = input(\"\\nEnter number of recommendations needed : \")\n",
    "                    try:\n",
    "                        number_input = int(number_input)\n",
    "                        if number_input > 0:\n",
    "                            recommend_movies(user_input, number_input)\n",
    "                    except ValueError as val:\n",
    "                        number_input = 0\n",
    "                    except RuntimeError as err:\n",
    "                        print('There was an error processing user input. Please retry.')\n",
    "            elif user_input == '!':\n",
    "                print(\"Hope you enjoy the movies!\")\n",
    "                break \n",
    "            counter += 1\n",
    "        print(\"Bye....Hope you enjoy the movies!\")\n",
    "    except RuntimeError as err:\n",
    "        print('There was an error: ', err, '\\nPlease start over.')\n",
    "        \n",
    "\n",
    "if __name__ == '__main__':\n",
    "    main()"
   ]
  },
  {
   "cell_type": "markdown",
   "id": "177e9d5c",
   "metadata": {},
   "source": [
    "#### Reference:\n",
    "\n",
    "Das, S. (2023b, July 24). Building a movie recommendation system with Machine Learning. Analytics Vidhya. https://www.analyticsvidhya.com/blog/2020/11/create-your-own-movie-movie-recommendation-system/ "
   ]
  }
 ],
 "metadata": {
  "kernelspec": {
   "display_name": "Python 3 (ipykernel)",
   "language": "python",
   "name": "python3"
  },
  "language_info": {
   "codemirror_mode": {
    "name": "ipython",
    "version": 3
   },
   "file_extension": ".py",
   "mimetype": "text/x-python",
   "name": "python",
   "nbconvert_exporter": "python",
   "pygments_lexer": "ipython3",
   "version": "3.9.16"
  }
 },
 "nbformat": 4,
 "nbformat_minor": 5
}
