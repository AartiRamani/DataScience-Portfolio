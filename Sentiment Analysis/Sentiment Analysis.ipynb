{
 "cells": [
  {
   "cell_type": "markdown",
   "id": "9cd31816",
   "metadata": {},
   "source": [
    "# Week 5 - Build your own sentiment analysis model"
   ]
  },
  {
   "cell_type": "code",
   "execution_count": 1,
   "id": "93c756c0",
   "metadata": {},
   "outputs": [],
   "source": [
    "import pandas as pd\n",
    "from textblob import TextBlob\n",
    "import numpy as np\n",
    "import string \n",
    "import warnings\n",
    "warnings.filterwarnings('ignore')\n",
    "import re"
   ]
  },
  {
   "cell_type": "markdown",
   "id": "5e4cd4bd",
   "metadata": {},
   "source": [
    "#### 1. Get the stemmed data using the same process you did in Week 3."
   ]
  },
  {
   "cell_type": "code",
   "execution_count": 2,
   "id": "d31391cc",
   "metadata": {},
   "outputs": [
    {
     "name": "stdout",
     "output_type": "stream",
     "text": [
      "(25000, 3)\n"
     ]
    },
    {
     "data": {
      "text/html": [
       "<div>\n",
       "<style scoped>\n",
       "    .dataframe tbody tr th:only-of-type {\n",
       "        vertical-align: middle;\n",
       "    }\n",
       "\n",
       "    .dataframe tbody tr th {\n",
       "        vertical-align: top;\n",
       "    }\n",
       "\n",
       "    .dataframe thead th {\n",
       "        text-align: right;\n",
       "    }\n",
       "</style>\n",
       "<table border=\"1\" class=\"dataframe\">\n",
       "  <thead>\n",
       "    <tr style=\"text-align: right;\">\n",
       "      <th></th>\n",
       "      <th>id</th>\n",
       "      <th>sentiment</th>\n",
       "      <th>review</th>\n",
       "    </tr>\n",
       "  </thead>\n",
       "  <tbody>\n",
       "    <tr>\n",
       "      <th>0</th>\n",
       "      <td>5814_8</td>\n",
       "      <td>1</td>\n",
       "      <td>With all this stuff going down at the moment w...</td>\n",
       "    </tr>\n",
       "    <tr>\n",
       "      <th>1</th>\n",
       "      <td>2381_9</td>\n",
       "      <td>1</td>\n",
       "      <td>\\The Classic War of the Worlds\\\" by Timothy Hi...</td>\n",
       "    </tr>\n",
       "    <tr>\n",
       "      <th>2</th>\n",
       "      <td>7759_3</td>\n",
       "      <td>0</td>\n",
       "      <td>The film starts with a manager (Nicholas Bell)...</td>\n",
       "    </tr>\n",
       "    <tr>\n",
       "      <th>3</th>\n",
       "      <td>3630_4</td>\n",
       "      <td>0</td>\n",
       "      <td>It must be assumed that those who praised this...</td>\n",
       "    </tr>\n",
       "    <tr>\n",
       "      <th>4</th>\n",
       "      <td>9495_8</td>\n",
       "      <td>1</td>\n",
       "      <td>Superbly trashy and wondrously unpretentious 8...</td>\n",
       "    </tr>\n",
       "  </tbody>\n",
       "</table>\n",
       "</div>"
      ],
      "text/plain": [
       "       id  sentiment                                             review\n",
       "0  5814_8          1  With all this stuff going down at the moment w...\n",
       "1  2381_9          1  \\The Classic War of the Worlds\\\" by Timothy Hi...\n",
       "2  7759_3          0  The film starts with a manager (Nicholas Bell)...\n",
       "3  3630_4          0  It must be assumed that those who praised this...\n",
       "4  9495_8          1  Superbly trashy and wondrously unpretentious 8..."
      ]
     },
     "execution_count": 2,
     "metadata": {},
     "output_type": "execute_result"
    }
   ],
   "source": [
    "labeled_train_data_df = pd.read_csv('labeledTrainData.tsv', sep='\\t') \n",
    "\n",
    "print(labeled_train_data_df.shape)\n",
    "labeled_train_data_df.head()"
   ]
  },
  {
   "cell_type": "code",
   "execution_count": 3,
   "id": "64495a5a",
   "metadata": {},
   "outputs": [
    {
     "data": {
      "text/html": [
       "<div>\n",
       "<style scoped>\n",
       "    .dataframe tbody tr th:only-of-type {\n",
       "        vertical-align: middle;\n",
       "    }\n",
       "\n",
       "    .dataframe tbody tr th {\n",
       "        vertical-align: top;\n",
       "    }\n",
       "\n",
       "    .dataframe thead th {\n",
       "        text-align: right;\n",
       "    }\n",
       "</style>\n",
       "<table border=\"1\" class=\"dataframe\">\n",
       "  <thead>\n",
       "    <tr style=\"text-align: right;\">\n",
       "      <th></th>\n",
       "      <th>sentiment</th>\n",
       "      <th>review</th>\n",
       "    </tr>\n",
       "  </thead>\n",
       "  <tbody>\n",
       "    <tr>\n",
       "      <th>0</th>\n",
       "      <td>1</td>\n",
       "      <td>With all this stuff going down at the moment w...</td>\n",
       "    </tr>\n",
       "    <tr>\n",
       "      <th>1</th>\n",
       "      <td>1</td>\n",
       "      <td>\\The Classic War of the Worlds\\\" by Timothy Hi...</td>\n",
       "    </tr>\n",
       "    <tr>\n",
       "      <th>2</th>\n",
       "      <td>0</td>\n",
       "      <td>The film starts with a manager (Nicholas Bell)...</td>\n",
       "    </tr>\n",
       "    <tr>\n",
       "      <th>3</th>\n",
       "      <td>0</td>\n",
       "      <td>It must be assumed that those who praised this...</td>\n",
       "    </tr>\n",
       "    <tr>\n",
       "      <th>4</th>\n",
       "      <td>1</td>\n",
       "      <td>Superbly trashy and wondrously unpretentious 8...</td>\n",
       "    </tr>\n",
       "  </tbody>\n",
       "</table>\n",
       "</div>"
      ],
      "text/plain": [
       "   sentiment                                             review\n",
       "0          1  With all this stuff going down at the moment w...\n",
       "1          1  \\The Classic War of the Worlds\\\" by Timothy Hi...\n",
       "2          0  The film starts with a manager (Nicholas Bell)...\n",
       "3          0  It must be assumed that those who praised this...\n",
       "4          1  Superbly trashy and wondrously unpretentious 8..."
      ]
     },
     "execution_count": 3,
     "metadata": {},
     "output_type": "execute_result"
    }
   ],
   "source": [
    "labeled_train_data_df = pd.DataFrame(labeled_train_data_df[['sentiment','review']])\n",
    "labeled_train_data_df.head()"
   ]
  },
  {
   "cell_type": "code",
   "execution_count": 4,
   "id": "cb14f021",
   "metadata": {},
   "outputs": [],
   "source": [
    "# Function to remove special characters and spaces\n",
    "def clean_data(text): \n",
    "    text=text.lower() #makes text lowercase\n",
    "    text=re.sub('\\\\d|\\\\W+|_',' ',text) #removes extra white space\n",
    "    text=re.sub('[^a-zA-Z0-9]',\" \", text) #removes any non-alphanumeric characters\n",
    "    \n",
    "    return text"
   ]
  },
  {
   "cell_type": "code",
   "execution_count": 5,
   "id": "9eecdefd",
   "metadata": {},
   "outputs": [],
   "source": [
    "# Function to remove stop words (and tokenize)\n",
    "def Tokenize_and_RemoveStopWords(txt): \n",
    "    from nltk import word_tokenize\n",
    "    from nltk.corpus import stopwords \n",
    "       \n",
    "    txt_token = word_tokenize(txt)\n",
    "    stop_words = stopwords.words('english') \n",
    "    txt_no_stopwords = [word for word in txt_token if word not in stop_words]\n",
    "    \n",
    "    return txt_no_stopwords"
   ]
  },
  {
   "cell_type": "code",
   "execution_count": 6,
   "id": "01aac32c",
   "metadata": {},
   "outputs": [],
   "source": [
    "# Apply NLTK's PorterStemmer \n",
    "def stem_text(word_list):\n",
    "    from nltk.stem.porter import PorterStemmer\n",
    "    \n",
    "    porter = PorterStemmer()\n",
    "    return [porter.stem(word) for word in word_list]"
   ]
  },
  {
   "cell_type": "code",
   "execution_count": 7,
   "id": "3e583ddc",
   "metadata": {},
   "outputs": [
    {
     "name": "stdout",
     "output_type": "stream",
     "text": [
      "(25000, 3)\n",
      "(25000, 4)\n",
      "(25000, 5)\n",
      "(25000, 6)\n"
     ]
    },
    {
     "data": {
      "text/html": [
       "<div>\n",
       "<style scoped>\n",
       "    .dataframe tbody tr th:only-of-type {\n",
       "        vertical-align: middle;\n",
       "    }\n",
       "\n",
       "    .dataframe tbody tr th {\n",
       "        vertical-align: top;\n",
       "    }\n",
       "\n",
       "    .dataframe thead th {\n",
       "        text-align: right;\n",
       "    }\n",
       "</style>\n",
       "<table border=\"1\" class=\"dataframe\">\n",
       "  <thead>\n",
       "    <tr style=\"text-align: right;\">\n",
       "      <th></th>\n",
       "      <th>sentiment</th>\n",
       "      <th>review</th>\n",
       "      <th>review_clean</th>\n",
       "      <th>review_tokenized</th>\n",
       "      <th>review_stemmed</th>\n",
       "      <th>review_final</th>\n",
       "    </tr>\n",
       "  </thead>\n",
       "  <tbody>\n",
       "    <tr>\n",
       "      <th>0</th>\n",
       "      <td>1</td>\n",
       "      <td>With all this stuff going down at the moment w...</td>\n",
       "      <td>with all this stuff going down at the moment w...</td>\n",
       "      <td>[stuff, going, moment, mj, started, listening,...</td>\n",
       "      <td>[stuff, go, moment, mj, start, listen, music, ...</td>\n",
       "      <td>stuff go moment mj start listen music watch od...</td>\n",
       "    </tr>\n",
       "    <tr>\n",
       "      <th>1</th>\n",
       "      <td>1</td>\n",
       "      <td>\\The Classic War of the Worlds\\\" by Timothy Hi...</td>\n",
       "      <td>the classic war of the worlds by timothy hine...</td>\n",
       "      <td>[classic, war, worlds, timothy, hines, enterta...</td>\n",
       "      <td>[classic, war, world, timothi, hine, entertain...</td>\n",
       "      <td>classic war world timothi hine entertain film ...</td>\n",
       "    </tr>\n",
       "    <tr>\n",
       "      <th>2</th>\n",
       "      <td>0</td>\n",
       "      <td>The film starts with a manager (Nicholas Bell)...</td>\n",
       "      <td>the film starts with a manager nicholas bell g...</td>\n",
       "      <td>[film, starts, manager, nicholas, bell, giving...</td>\n",
       "      <td>[film, start, manag, nichola, bell, give, welc...</td>\n",
       "      <td>film start manag nichola bell give welcom inve...</td>\n",
       "    </tr>\n",
       "    <tr>\n",
       "      <th>3</th>\n",
       "      <td>0</td>\n",
       "      <td>It must be assumed that those who praised this...</td>\n",
       "      <td>it must be assumed that those who praised this...</td>\n",
       "      <td>[must, assumed, praised, film, greatest, filme...</td>\n",
       "      <td>[must, assum, prais, film, greatest, film, ope...</td>\n",
       "      <td>must assum prais film greatest film opera ever...</td>\n",
       "    </tr>\n",
       "    <tr>\n",
       "      <th>4</th>\n",
       "      <td>1</td>\n",
       "      <td>Superbly trashy and wondrously unpretentious 8...</td>\n",
       "      <td>superbly trashy and wondrously unpretentious  ...</td>\n",
       "      <td>[superbly, trashy, wondrously, unpretentious, ...</td>\n",
       "      <td>[superbl, trashi, wondrous, unpretenti, exploi...</td>\n",
       "      <td>superbl trashi wondrous unpretenti exploit hoo...</td>\n",
       "    </tr>\n",
       "  </tbody>\n",
       "</table>\n",
       "</div>"
      ],
      "text/plain": [
       "   sentiment                                             review  \\\n",
       "0          1  With all this stuff going down at the moment w...   \n",
       "1          1  \\The Classic War of the Worlds\\\" by Timothy Hi...   \n",
       "2          0  The film starts with a manager (Nicholas Bell)...   \n",
       "3          0  It must be assumed that those who praised this...   \n",
       "4          1  Superbly trashy and wondrously unpretentious 8...   \n",
       "\n",
       "                                        review_clean  \\\n",
       "0  with all this stuff going down at the moment w...   \n",
       "1   the classic war of the worlds by timothy hine...   \n",
       "2  the film starts with a manager nicholas bell g...   \n",
       "3  it must be assumed that those who praised this...   \n",
       "4  superbly trashy and wondrously unpretentious  ...   \n",
       "\n",
       "                                    review_tokenized  \\\n",
       "0  [stuff, going, moment, mj, started, listening,...   \n",
       "1  [classic, war, worlds, timothy, hines, enterta...   \n",
       "2  [film, starts, manager, nicholas, bell, giving...   \n",
       "3  [must, assumed, praised, film, greatest, filme...   \n",
       "4  [superbly, trashy, wondrously, unpretentious, ...   \n",
       "\n",
       "                                      review_stemmed  \\\n",
       "0  [stuff, go, moment, mj, start, listen, music, ...   \n",
       "1  [classic, war, world, timothi, hine, entertain...   \n",
       "2  [film, start, manag, nichola, bell, give, welc...   \n",
       "3  [must, assum, prais, film, greatest, film, ope...   \n",
       "4  [superbl, trashi, wondrous, unpretenti, exploi...   \n",
       "\n",
       "                                        review_final  \n",
       "0  stuff go moment mj start listen music watch od...  \n",
       "1  classic war world timothi hine entertain film ...  \n",
       "2  film start manag nichola bell give welcom inve...  \n",
       "3  must assum prais film greatest film opera ever...  \n",
       "4  superbl trashi wondrous unpretenti exploit hoo...  "
      ]
     },
     "execution_count": 7,
     "metadata": {},
     "output_type": "execute_result"
    }
   ],
   "source": [
    "#creating new columns in the data frame for each preprocessing step\n",
    "labeled_train_data_df['review_clean'] = labeled_train_data_df.review.apply(clean_data)\n",
    "print(labeled_train_data_df.shape)\n",
    "\n",
    "#applying tokenizing and remove stop words \n",
    "labeled_train_data_df['review_tokenized'] = labeled_train_data_df.review_clean.apply(Tokenize_and_RemoveStopWords)\n",
    "print(labeled_train_data_df.shape)\n",
    "\n",
    "#applying PorterStemmer \n",
    "labeled_train_data_df['review_stemmed'] = labeled_train_data_df.review_tokenized.apply(stem_text)\n",
    "print(labeled_train_data_df.shape)\n",
    "\n",
    "#putting the text back together  \n",
    "labeled_train_data_df['review_final'] = labeled_train_data_df.review_stemmed.apply(lambda text: ' '.join(text))\n",
    "\n",
    "print(labeled_train_data_df.shape)\n",
    "labeled_train_data_df.head()"
   ]
  },
  {
   "cell_type": "code",
   "execution_count": 8,
   "id": "32a0677f",
   "metadata": {},
   "outputs": [
    {
     "data": {
      "text/plain": [
       "sentiment            int64\n",
       "review              object\n",
       "review_clean        object\n",
       "review_tokenized    object\n",
       "review_stemmed      object\n",
       "review_final        object\n",
       "dtype: object"
      ]
     },
     "execution_count": 8,
     "metadata": {},
     "output_type": "execute_result"
    }
   ],
   "source": [
    "# column types of each column\n",
    "labeled_train_data_df.dtypes"
   ]
  },
  {
   "cell_type": "markdown",
   "id": "b131da4c",
   "metadata": {},
   "source": [
    "#### 2. Split this into a training and test set."
   ]
  },
  {
   "cell_type": "code",
   "execution_count": 9,
   "id": "de7f97c1",
   "metadata": {},
   "outputs": [],
   "source": [
    "from sklearn.model_selection import train_test_split\n",
    "\n",
    "x = labeled_train_data_df['review_final'] \n",
    "#x = labeled_train_data_df.drop('review_final',axis=1) \n",
    "y = labeled_train_data_df['sentiment']\n",
    " \n",
    "#80% for Training and 20% for Test\n",
    "x_train, x_test, y_train, y_test = train_test_split(x, y, test_size=0.2)"
   ]
  },
  {
   "cell_type": "code",
   "execution_count": 10,
   "id": "624f991d",
   "metadata": {},
   "outputs": [
    {
     "name": "stdout",
     "output_type": "stream",
     "text": [
      "x train :  (20000,)\n",
      "x test :  (5000,)\n",
      "y train :  (20000,)\n",
      "y test :  (5000,)\n",
      "0    10010\n",
      "1     9990\n",
      "Name: sentiment, dtype: int64\n",
      "1    2510\n",
      "0    2490\n",
      "Name: sentiment, dtype: int64\n"
     ]
    }
   ],
   "source": [
    "print('x train : ',x_train.shape)\n",
    "print('x test : ',x_test.shape)\n",
    "print('y train : ',y_train.shape)\n",
    "print('y test : ',y_test.shape)\n",
    "\n",
    "## Display number of sentiments in training and test sets \n",
    "print(y_train.value_counts())\n",
    "print(y_test.value_counts())"
   ]
  },
  {
   "cell_type": "code",
   "execution_count": 11,
   "id": "aa6d53ec",
   "metadata": {},
   "outputs": [
    {
     "data": {
      "text/plain": [
       "(20000, 45326)"
      ]
     },
     "execution_count": 11,
     "metadata": {},
     "output_type": "execute_result"
    }
   ],
   "source": [
    "# Frequency of the word in a document using term frequency-inverse document frequency\n",
    "from sklearn.feature_extraction.text import TfidfVectorizer\n",
    "tfidf = TfidfVectorizer()\n",
    "tfidf_matrix_train = tfidf.fit_transform(x_train)\n",
    "\n",
    "# Check the shape to validate tf-idf vectorization\n",
    "tfidf_matrix_train.shape"
   ]
  },
  {
   "cell_type": "code",
   "execution_count": 12,
   "id": "d76c3218",
   "metadata": {},
   "outputs": [
    {
     "data": {
      "text/plain": [
       "(5000, 45326)"
      ]
     },
     "execution_count": 12,
     "metadata": {},
     "output_type": "execute_result"
    }
   ],
   "source": [
    "tfidf_matrix_test = tfidf.transform(x_test)\n",
    "\n",
    "# Check the shape to validate\n",
    "tfidf_matrix_test.shape"
   ]
  },
  {
   "cell_type": "markdown",
   "id": "5253e932",
   "metadata": {},
   "source": [
    "#### 3. Fit and apply the tf-idf vectorization to the training set."
   ]
  },
  {
   "cell_type": "code",
   "execution_count": 13,
   "id": "ade270be",
   "metadata": {},
   "outputs": [
    {
     "data": {
      "text/plain": [
       "(20000, 45326)"
      ]
     },
     "execution_count": 13,
     "metadata": {},
     "output_type": "execute_result"
    }
   ],
   "source": [
    "# Create the tf-idf feature matrix for training data\n",
    "from sklearn.feature_extraction.text import TfidfVectorizer\n",
    "\n",
    "tfidfs = TfidfVectorizer()\n",
    "x_train_tdif = tfidfs.fit_transform(x_train)\n",
    "\n",
    "x_train_tdif.shape "
   ]
  },
  {
   "cell_type": "markdown",
   "id": "f0add729",
   "metadata": {},
   "source": [
    "#### 4. Apply but DO NOT FIT the tf-idf vectorization to the test set (Why?)."
   ]
  },
  {
   "cell_type": "code",
   "execution_count": 14,
   "id": "38e4f860",
   "metadata": {},
   "outputs": [
    {
     "data": {
      "text/plain": [
       "(5000, 45326)"
      ]
     },
     "execution_count": 14,
     "metadata": {},
     "output_type": "execute_result"
    }
   ],
   "source": [
    "# Create the tf-idf feature matrix for test data\n",
    "x_test_tdif = tfidf.transform(x_test)\n",
    "\n",
    "# Check the shape to validate\n",
    "x_test_tdif.shape"
   ]
  },
  {
   "cell_type": "markdown",
   "id": "20eced7e",
   "metadata": {},
   "source": [
    "We expect maximum accuracy from the training set. We do not fit the tf-idf to test set because doing so would cause test data to leak into the training set. Surprisingly high accuracy score could indicate that test data leaked into the training set."
   ]
  },
  {
   "cell_type": "markdown",
   "id": "f7e60281",
   "metadata": {},
   "source": [
    "#### 5. Train a logistic regression using the training data."
   ]
  },
  {
   "cell_type": "code",
   "execution_count": 15,
   "id": "681d6807",
   "metadata": {},
   "outputs": [
    {
     "data": {
      "text/plain": [
       "array([1, 0, 0, ..., 0, 0, 1], dtype=int64)"
      ]
     },
     "execution_count": 15,
     "metadata": {},
     "output_type": "execute_result"
    }
   ],
   "source": [
    "from sklearn.linear_model import LogisticRegression\n",
    "    \n",
    "logistic_model = LogisticRegression(random_state=0, solver='lbfgs', multi_class='multinomial')\n",
    "pred = logistic_model.fit(x_train_tdif, y_train).predict(x_test_tdif) \n",
    "pred"
   ]
  },
  {
   "cell_type": "markdown",
   "id": "ec7efc59",
   "metadata": {},
   "source": [
    "#### 6. Find the model accuracy on test set."
   ]
  },
  {
   "cell_type": "code",
   "execution_count": 16,
   "id": "1edda703",
   "metadata": {},
   "outputs": [
    {
     "name": "stdout",
     "output_type": "stream",
     "text": [
      "Logistic Regression Accuracy score: 0.893\n"
     ]
    }
   ],
   "source": [
    "from sklearn.metrics import accuracy_score\n",
    "\n",
    "score = accuracy_score(y_test, pred)\n",
    "print('Logistic Regression Accuracy score:',score)\n",
    "#The model has a 88.3% accuracy score"
   ]
  },
  {
   "cell_type": "markdown",
   "id": "a6931c4b",
   "metadata": {},
   "source": [
    "#### 7. Create a confusion matrix for the test set predictions."
   ]
  },
  {
   "cell_type": "code",
   "execution_count": 17,
   "id": "76a4f9e2",
   "metadata": {},
   "outputs": [
    {
     "name": "stdout",
     "output_type": "stream",
     "text": [
      "[[2190  300]\n",
      " [ 235 2275]]\n"
     ]
    },
    {
     "data": {
      "image/png": "[encoded data removed]",
      "text/plain": [
       "<Figure size 640x480 with 1 Axes>"
      ]
     },
     "metadata": {},
     "output_type": "display_data"
    }
   ],
   "source": [
    "import matplotlib.pyplot as plt\n",
    "import seaborn as sns\n",
    "from sklearn.metrics import confusion_matrix\n",
    "\n",
    "matrix = confusion_matrix(y_test, pred, labels=[1,0])\n",
    "\n",
    "matrix = confusion_matrix(y_test, pred)\n",
    "print(matrix)\n",
    "\n",
    "# Create pandas dataframe\n",
    "df = pd.DataFrame(matrix)\n",
    "\n",
    "# Create a heatmap\n",
    "sns.heatmap(df, annot=True, cbar=None, cmap=\"Blues\")\n",
    "plt.title(\"Logistic Regression Model Confusion Matrix\"), plt.tight_layout()\n",
    "plt.ylabel(\"True Class\"), plt.xlabel(\"Predicted Class\")\n",
    "plt.show()"
   ]
  },
  {
   "cell_type": "markdown",
   "id": "ccd8c7f8",
   "metadata": {},
   "source": [
    "#### 8. Get the precision, recall, and F1-score for the test set predictions."
   ]
  },
  {
   "cell_type": "code",
   "execution_count": 18,
   "id": "a5458241",
   "metadata": {},
   "outputs": [
    {
     "name": "stdout",
     "output_type": "stream",
     "text": [
      "Precision: 88%\n",
      "Recall: 91%\n",
      "F1-score: 89%\n"
     ]
    }
   ],
   "source": [
    "from sklearn.metrics import precision_score, recall_score, f1_score\n",
    "\n",
    "# Calculate Precision\n",
    "p = \"{:.0%}\".format(precision_score(y_test, pred))\n",
    "\n",
    "# Calculate Recall\n",
    "r = \"{:.0%}\".format(recall_score(y_test, pred))\n",
    "\n",
    "# Calculate F1-score\n",
    "f1 = \"{:.0%}\".format(f1_score(y_test, pred))\n",
    "\n",
    "# Print results\n",
    "print(\"Precision:\",p)\n",
    "print(\"Recall:\",r)\n",
    "print(\"F1-score:\",f1)"
   ]
  },
  {
   "cell_type": "markdown",
   "id": "9ee64ee2",
   "metadata": {},
   "source": [
    "#### 9. Create a ROC curve for the test set."
   ]
  },
  {
   "cell_type": "code",
   "execution_count": 19,
   "id": "265478ec",
   "metadata": {},
   "outputs": [
    {
     "data": {
      "image/png": "[encoded data removed]",
      "text/plain": [
       "<Figure size 640x480 with 1 Axes>"
      ]
     },
     "metadata": {},
     "output_type": "display_data"
    }
   ],
   "source": [
    "# Load libraries\n",
    "from sklearn.metrics import roc_curve, roc_auc_score\n",
    "\n",
    "# Get predicted probabilities\n",
    "target_probabilities = logistic_model.predict_proba(x_test_tdif)[:,1]\n",
    "\n",
    "# Create true and false positive rates\n",
    "false_positive_rate, true_positive_rate, threshold = roc_curve(y_test, target_probabilities)\n",
    "\n",
    "# Plot ROC curve\n",
    "plt.title(\"Receiver Operating Characterisitcs\")\n",
    "plt.plot(false_positive_rate, true_positive_rate)\n",
    "plt.plot([0, 1], ls=\"--\")\n",
    "plt.plot([0, 0], [1, 0], c=\".7\"), plt.plot([1, 1] , c=\".7\")\n",
    "plt.ylabel(\"True Positive Rate\")\n",
    "plt.xlabel(\"False Positive Rate\")\n",
    "plt.show()\n"
   ]
  },
  {
   "cell_type": "markdown",
   "id": "aff74438",
   "metadata": {},
   "source": [
    "#### 10. Pick another classification model you learned about this week and repeat steps (5) – (9)."
   ]
  },
  {
   "cell_type": "markdown",
   "id": "eb6c79fe",
   "metadata": {},
   "source": [
    "###### 10.5.Train a logistic regression using the training data."
   ]
  },
  {
   "cell_type": "code",
   "execution_count": 20,
   "id": "3dd8adc3",
   "metadata": {},
   "outputs": [
    {
     "data": {
      "text/plain": [
       "array([1, 0, 0, ..., 0, 0, 1], dtype=int64)"
      ]
     },
     "execution_count": 20,
     "metadata": {},
     "output_type": "execute_result"
    }
   ],
   "source": [
    "from sklearn.neighbors import KNeighborsClassifier\n",
    " \n",
    "# Train a KNN classifier with 5 neighbors\n",
    "knnmodel = KNeighborsClassifier()\n",
    "prediction = knnmodel.fit(x_train_tdif, y_train).predict(x_test_tdif) \n",
    "prediction"
   ]
  },
  {
   "cell_type": "markdown",
   "id": "b55254c1",
   "metadata": {},
   "source": [
    "###### 10.6. Find the model accuracy on test set."
   ]
  },
  {
   "cell_type": "code",
   "execution_count": 21,
   "id": "ac1f4507",
   "metadata": {},
   "outputs": [
    {
     "name": "stdout",
     "output_type": "stream",
     "text": [
      "Knn Model Accuracy score: 0.7854\n"
     ]
    }
   ],
   "source": [
    "score = accuracy_score(y_test, prediction)\n",
    "print('Knn Model Accuracy score:',score) "
   ]
  },
  {
   "cell_type": "markdown",
   "id": "3d3aae82",
   "metadata": {},
   "source": [
    "###### 10.7. Create a confusion matrix for the test set predictions."
   ]
  },
  {
   "cell_type": "code",
   "execution_count": 22,
   "id": "68c3445f",
   "metadata": {},
   "outputs": [
    {
     "name": "stdout",
     "output_type": "stream",
     "text": [
      "[[1812  678]\n",
      " [ 395 2115]]\n"
     ]
    },
    {
     "data": {
      "image/png": "[encoded data removed]",
      "text/plain": [
       "<Figure size 640x480 with 1 Axes>"
      ]
     },
     "metadata": {},
     "output_type": "display_data"
    }
   ],
   "source": [
    "matrix = confusion_matrix(y_test, prediction, labels=[1,0])\n",
    "\n",
    "matrix = confusion_matrix(y_test, prediction)\n",
    "print(matrix)\n",
    "# Create pandas dataframe\n",
    "df = pd.DataFrame(matrix)\n",
    "\n",
    "# Create a heatmap\n",
    "sns.heatmap(df, annot=True, cbar=None, cmap=\"Blues\")\n",
    "plt.title(\"Knn Model Confusion Matrix\"), plt.tight_layout()\n",
    "plt.ylabel(\"True Class\"), plt.xlabel(\"Predicted Class\")\n",
    "plt.show()"
   ]
  },
  {
   "cell_type": "markdown",
   "id": "9cbd86ef",
   "metadata": {},
   "source": [
    "###### 10.8 Get the precision, recall, and F1-score for the test set predictions."
   ]
  },
  {
   "cell_type": "code",
   "execution_count": 23,
   "id": "0c2e8944",
   "metadata": {},
   "outputs": [
    {
     "name": "stdout",
     "output_type": "stream",
     "text": [
      "Precision: 76%\n",
      "Recall: 84%\n",
      "F1-score: 80%\n"
     ]
    }
   ],
   "source": [
    "# Calculate Precision\n",
    "p = \"{:.0%}\".format(precision_score(y_test, prediction))\n",
    "\n",
    "# Calculate Recall\n",
    "r = \"{:.0%}\".format(recall_score(y_test, prediction))\n",
    "\n",
    "# Calculate F1-score\n",
    "f1 = \"{:.0%}\".format(f1_score(y_test, prediction))\n",
    "\n",
    "# Print results\n",
    "print(\"Precision:\",p)\n",
    "print(\"Recall:\",r)\n",
    "print(\"F1-score:\",f1)"
   ]
  },
  {
   "cell_type": "markdown",
   "id": "b137d185",
   "metadata": {},
   "source": [
    "###### 10.9 Create a ROC curve for the test set."
   ]
  },
  {
   "cell_type": "code",
   "execution_count": 24,
   "id": "4c716817",
   "metadata": {},
   "outputs": [
    {
     "data": {
      "image/png": "[encoded data removed]",
      "text/plain": [
       "<Figure size 640x480 with 1 Axes>"
      ]
     },
     "metadata": {},
     "output_type": "display_data"
    }
   ],
   "source": [
    "target_probabilities = knnmodel.predict_proba(x_test_tdif)[:,1]\n",
    "\n",
    "# Create true and false positive rates\n",
    "false_positive_rate, true_positive_rate, threshold = roc_curve(y_test, target_probabilities)\n",
    "\n",
    "# Plot ROC curve\n",
    "plt.title(\"Receiver Operating Characterisitcs\")\n",
    "plt.plot(false_positive_rate, true_positive_rate)\n",
    "plt.plot([0, 1], ls=\"--\")\n",
    "plt.plot([0, 0], [1, 0], c=\".7\"), plt.plot([1, 1] , c=\".7\")\n",
    "plt.ylabel(\"True Positive Rate\")\n",
    "plt.xlabel(\"False Positive Rate\")\n",
    "plt.show()"
   ]
  }
 ],
 "metadata": {
  "kernelspec": {
   "display_name": "Python 3 (ipykernel)",
   "language": "python",
   "name": "python3"
  },
  "language_info": {
   "codemirror_mode": {
    "name": "ipython",
    "version": 3
   },
   "file_extension": ".py",
   "mimetype": "text/x-python",
   "name": "python",
   "nbconvert_exporter": "python",
   "pygments_lexer": "ipython3",
   "version": "3.9.16"
  }
 },
 "nbformat": 4,
 "nbformat_minor": 5
}
